{
 "cells": [
  {
   "cell_type": "code",
   "execution_count": 1,
   "id": "accepted-learning",
   "metadata": {},
   "outputs": [
    {
     "data": {
      "text/html": [
       "\n",
       "<script src=\"numeric/src/numeric.js\"></script>\n",
       "<script src=\"helpers.js\"></script>\n",
       "<script src=\"quest_plus.js\"></script>\n",
       "<!--  # recommend using the dev console for this notebook so it -->\n",
       "<!--  # doesn't ask you whether to exit the page while waiting -->\n"
      ],
      "text/plain": [
       "<IPython.core.display.HTML object>"
      ]
     },
     "metadata": {},
     "output_type": "display_data"
    }
   ],
   "source": [
    "%%HTML\n",
    "\n",
    "<script src=\"numeric/src/numeric.js\"></script>\n",
    "<script src=\"helpers.js\"></script>\n",
    "<script src=\"quest_plus.js\"></script>\n",
    "<!--  # recommend using the dev console for this notebook so it -->\n",
    "<!--  # doesn't ask you whether to exit the page while waiting -->"
   ]
  },
  {
   "cell_type": "code",
   "execution_count": 2,
   "id": "dietary-crowd",
   "metadata": {},
   "outputs": [
    {
     "data": {
      "text/html": [
       "<script>\n",
       "\n",
       "var stim_space = arange_round(-100, 101, 2)\n",
       "var tau_space = arange_round(10, 51, 1)\n",
       "var gamma_space = arange_round(0.1,10,.2)\n",
       "var lambda_space = arange_round(-1,1.1,.1)\n",
       "\n",
       "var params = [tau_space, gamma_space, lambda_space];\n",
       "\n",
       "\n",
       "var contrast_idx;\n",
       "var response = true;\n",
       "</script>\n"
      ],
      "text/plain": [
       "<IPython.core.display.HTML object>"
      ]
     },
     "metadata": {},
     "output_type": "display_data"
    }
   ],
   "source": [
    "%%HTML\n",
    "<script>\n",
    "\n",
    "var stim_space = arange_round(-100, 101, 2)\n",
    "var tau_space = arange_round(10, 51, 1)\n",
    "var gamma_space = arange_round(0.1,10,.2)\n",
    "var lambda_space = arange_round(-1,1.1,.1)\n",
    "\n",
    "var params = [tau_space, gamma_space, lambda_space];\n",
    "\n",
    "\n",
    "var contrast_idx;\n",
    "var response = true;\n",
    "</script>"
   ]
  },
  {
   "cell_type": "markdown",
   "id": "olive-holiday",
   "metadata": {},
   "source": [
    "# Yes-No Psychometric function"
   ]
  },
  {
   "cell_type": "code",
   "execution_count": 3,
   "id": "international-interview",
   "metadata": {},
   "outputs": [
    {
     "data": {
      "text/html": [
       "<div id=params></div>\n",
       "<div id=threshold></div>\n",
       "<script>\n",
       "function draw_from(stimulus_value, params, func=yes_no_psych_function){\n",
       "    var prob = func(stimulus_value, params);\n",
       "    if (Math.random() < prob)\n",
       "        return 1;\n",
       "    else\n",
       "        return 0;\n",
       "}\n",
       "var response;\n",
       "// # uses the contrast_idx instead of contrast for speed reasons.\n",
       "// # doesn't ever estimate the contrast\n",
       "contrast_idx = parseInt(stim_space.length/2);\n",
       "// # the threshold being estimated\n",
       "var true_threshold = 21;\n",
       "var q = new QuestPlus(stim_space, params, yes_no_psych_function);\n",
       "// # 100 trials\n",
       "for (var i=0; i < 100; i++) {\n",
       "    t0 = performance.now()\n",
       "    q.update(contrast_idx, draw_from(stim_space[contrast_idx], [true_threshold,5.5,0.5]));\n",
       "    contrast_idx=q.next_contrast();\n",
       "    t1 = performance.now()\n",
       "    console.log(i, stim_space[contrast_idx], q.get_fit_params(), t1-t0);\n",
       "}\n",
       "var fit = q.get_fit_params();\n",
       "console.log(fit, contrast_idx);\n",
       "document.getElementById(\"params\").innerHTML = \"Params \" +String(fit);\n",
       "document.getElementById(\"threshold\").innerHTML = \"Estimated Threshold \".concat(fit[0],\" vs True Threshold \", true_threshold);\n",
       "\n",
       "</script>\n"
      ],
      "text/plain": [
       "<IPython.core.display.HTML object>"
      ]
     },
     "metadata": {},
     "output_type": "display_data"
    }
   ],
   "source": [
    "%%HTML\n",
    "<div id=params></div>\n",
    "<div id=threshold></div>\n",
    "<script>\n",
    "function draw_from(stimulus_value, params, func=yes_no_psych_function){\n",
    "    var prob = func(stimulus_value, params);\n",
    "    if (Math.random() < prob)\n",
    "        return 1;\n",
    "    else\n",
    "        return 0;\n",
    "}\n",
    "var response;\n",
    "// # uses the contrast_idx instead of contrast for speed reasons.\n",
    "// # doesn't ever estimate the contrast\n",
    "contrast_idx = parseInt(stim_space.length/2);\n",
    "// # the threshold being estimated\n",
    "var true_threshold = 21;\n",
    "var q = new QuestPlus(stim_space, params, yes_no_psych_function);\n",
    "// # 100 trials\n",
    "for (var i=0; i < 100; i++) {\n",
    "    t0 = performance.now()\n",
    "    // # update the posterior\n",
    "    q.update(contrast_idx, draw_from(stim_space[contrast_idx], [true_threshold,5.5,0.5]));\n",
    "    // # find the next contrast index\n",
    "    contrast_idx=q.next_contrast();\n",
    "    t1 = performance.now()\n",
    "    console.log(i, stim_space[contrast_idx], q.get_fit_params(), t1-t0);\n",
    "}\n",
    "var fit = q.get_fit_params();\n",
    "console.log(fit, contrast_idx);\n",
    "document.getElementById(\"params\").innerHTML = \"Params \" +String(fit);\n",
    "document.getElementById(\"threshold\").innerHTML = \"Estimated Threshold \".concat(fit[0],\" vs True Threshold \", true_threshold);\n",
    "\n",
    "</script>"
   ]
  },
  {
   "cell_type": "markdown",
   "id": "alien-malpractice",
   "metadata": {},
   "source": [
    "# Two-interval, forced-choice psychometric function"
   ]
  },
  {
   "cell_type": "code",
   "execution_count": 4,
   "id": "similar-cambodia",
   "metadata": {},
   "outputs": [
    {
     "data": {
      "text/html": [
       "<div id=params2></div>\n",
       "<div id=threshold2></div>\n",
       "<script>\n",
       "function draw_from(stimulus_value, params, func=psych_function){\n",
       "    var prob = func(stimulus_value, params);\n",
       "    if (Math.random() < prob)\n",
       "        return 1;\n",
       "    else\n",
       "        return 0;\n",
       "}\n",
       "var response;\n",
       "// # uses the contrast_idx instead of contrast for speed reasons.\n",
       "// # doesn't ever estimate the contrast\n",
       "contrast_idx = parseInt(stim_space.length/2);\n",
       "// # the threshold being estimated\n",
       "var true_threshold = 13;\n",
       "var q = new QuestPlus(stim_space, params, psych_function);\n",
       "// # 100 trials\n",
       "for (var i=0; i < 100; i++) {\n",
       "    t0 = performance.now()\n",
       "    // # update the posterior\n",
       "    q.update(contrast_idx, draw_from(stim_space[contrast_idx], [true_threshold,3.5,-0.7], psych_function));\n",
       "    // # find the next contrast index\n",
       "    contrast_idx=q.next_contrast();\n",
       "    t1 = performance.now()\n",
       "    console.log(i, stim_space[contrast_idx], q.get_fit_params(), t1-t0);\n",
       "}\n",
       "var fit = q.get_fit_params();\n",
       "console.log(fit, contrast_idx);\n",
       "document.getElementById(\"params2\").innerHTML = \"Params \" +String(fit);\n",
       "document.getElementById(\"threshold2\").innerHTML = \"Estimated Threshold \".concat(fit[0],\" vs True Threshold \", true_threshold);\n",
       "\n",
       "</script>\n"
      ],
      "text/plain": [
       "<IPython.core.display.HTML object>"
      ]
     },
     "metadata": {},
     "output_type": "display_data"
    }
   ],
   "source": [
    "%%HTML\n",
    "<div id=params2></div>\n",
    "<div id=threshold2></div>\n",
    "<script>\n",
    "function draw_from(stimulus_value, params, func=psych_function){\n",
    "    var prob = func(stimulus_value, params);\n",
    "    if (Math.random() < prob)\n",
    "        return 1;\n",
    "    else\n",
    "        return 0;\n",
    "}\n",
    "var response;\n",
    "// # uses the contrast_idx instead of contrast for speed reasons.\n",
    "// # doesn't ever estimate the contrast\n",
    "contrast_idx = parseInt(stim_space.length/2);\n",
    "// # the threshold being estimated\n",
    "var true_threshold = 13;\n",
    "var q = new QuestPlus(stim_space, params, psych_function);\n",
    "// # 100 trials\n",
    "for (var i=0; i < 100; i++) {\n",
    "    t0 = performance.now()\n",
    "    // # update the posterior\n",
    "    q.update(contrast_idx, draw_from(stim_space[contrast_idx], [true_threshold,3.5,-0.7], psych_function));\n",
    "    // # find the next contrast index\n",
    "    contrast_idx=q.next_contrast();\n",
    "    t1 = performance.now()\n",
    "    console.log(i, stim_space[contrast_idx], q.get_fit_params(), t1-t0);\n",
    "}\n",
    "var fit = q.get_fit_params();\n",
    "console.log(fit, contrast_idx);\n",
    "document.getElementById(\"params2\").innerHTML = \"Params \" +String(fit);\n",
    "document.getElementById(\"threshold2\").innerHTML = \"Estimated Threshold \".concat(fit[0],\" vs True Threshold \", true_threshold);\n",
    "\n",
    "</script>"
   ]
  },
  {
   "cell_type": "code",
   "execution_count": null,
   "id": "primary-carter",
   "metadata": {},
   "outputs": [],
   "source": []
  }
 ],
 "metadata": {
  "kernelspec": {
   "display_name": "Python 3",
   "language": "python",
   "name": "python3"
  },
  "language_info": {
   "codemirror_mode": {
    "name": "ipython",
    "version": 3
   },
   "file_extension": ".py",
   "mimetype": "text/x-python",
   "name": "python",
   "nbconvert_exporter": "python",
   "pygments_lexer": "ipython3",
   "version": "3.7.1"
  }
 },
 "nbformat": 4,
 "nbformat_minor": 5
}
